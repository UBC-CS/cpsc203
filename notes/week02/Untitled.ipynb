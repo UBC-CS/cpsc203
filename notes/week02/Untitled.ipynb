{
 "cells": [
  {
   "cell_type": "code",
   "execution_count": 1,
   "id": "e5b54578-7c6a-4878-af1f-6c5fc116e305",
   "metadata": {},
   "outputs": [],
   "source": [
    "def is_prime(number):\n",
    "    \"\"\"Check if a number is a prime number.\"\"\"\n",
    "    if number <= 1:\n",
    "        return False\n",
    "    elif number == 2:\n",
    "        return True\n",
    "    elif number % 2 == 0:\n",
    "        return False\n",
    "    else:\n",
    "        # Check for factors up to the square root of the number\n",
    "        for i in range(3, int(number**0.5) + 1, 2):\n",
    "            if number % i == 0:\n",
    "                return False\n",
    "        return True"
   ]
  },
  {
   "cell_type": "code",
   "execution_count": 7,
   "id": "609dcd87-a079-46e5-8063-d53404523941",
   "metadata": {},
   "outputs": [],
   "source": [
    "p = [-50,10,50,17,19,11,541]"
   ]
  },
  {
   "cell_type": "code",
   "execution_count": 8,
   "id": "a09bd645-ae4f-42dc-ac19-338f4e4bcc80",
   "metadata": {},
   "outputs": [
    {
     "name": "stdout",
     "output_type": "stream",
     "text": [
      "False\n",
      "False\n",
      "False\n",
      "True\n",
      "True\n",
      "True\n",
      "True\n"
     ]
    }
   ],
   "source": [
    "for n in p:\n",
    "    print(is_prime(n))"
   ]
  },
  {
   "cell_type": "code",
   "execution_count": null,
   "id": "d6d84710-19b1-49ec-9e0f-9a7c6388806a",
   "metadata": {},
   "outputs": [],
   "source": []
  }
 ],
 "metadata": {
  "kernelspec": {
   "display_name": "Python 3 (ipykernel)",
   "language": "python",
   "name": "python3"
  },
  "language_info": {
   "codemirror_mode": {
    "name": "ipython",
    "version": 3
   },
   "file_extension": ".py",
   "mimetype": "text/x-python",
   "name": "python",
   "nbconvert_exporter": "python",
   "pygments_lexer": "ipython3",
   "version": "3.10.2"
  }
 },
 "nbformat": 4,
 "nbformat_minor": 5
}
