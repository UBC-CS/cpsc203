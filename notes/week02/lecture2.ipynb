{
 "cells": [
  {
   "cell_type": "markdown",
   "metadata": {},
   "source": [
    "# DSCI 531 Lecture 2 - Functions in Python"
   ]
  },
  {
   "cell_type": "markdown",
   "metadata": {},
   "source": [
    "In this class, we will go through the second of four lectures by Dr. Mike Gelbart, option co-director of the UBC-Vancouver MDS program."
   ]
  },
  {
   "cell_type": "markdown",
   "metadata": {},
   "source": [
    "<div class=\"container\">\n",
    "<iframe class=\"responsive-iframe\" height=\"350px\" width=\"622px\" src=\"https://www.youtube-nocookie.com/embed/7FLv1ACEl-E\" frameborder=\"0\" allow=\"accelerometer; autoplay=\"0\"; encrypted-media; gyroscope; picture-in-picture\" allowfullscreen></iframe>\n",
    "</div>"
   ]
  },
  {
   "cell_type": "markdown",
   "metadata": {},
   "source": [
    "## Lecture Outline\n",
    "\n",
    "- Comments (0 min)\n",
    "- Why Python? (0 min)\n",
    "- Loops (15 min)\n",
    "- Comprehensions (5 min)\n",
    "- Functions intro (10 min)\n",
    "- DRY principle (15 min)\n",
    "- Break (5 min)\n",
    "- Keyword arguments (5 min)\n",
    "- Docstrings (10 min)\n",
    "- Unit tests, corner cases (10 min)\n",
    "- Multiple return values (5 min)"
   ]
  },
  {
   "cell_type": "markdown",
   "metadata": {},
   "source": [
    "### Attribution\n",
    "\n",
    "- The original version of these Python lectures were by [Patrick Walls](https://www.math.ubc.ca/~pwalls/).\n",
    "- These lectures were delivered by [Mike Gelbart](https://mikegelbart.com) and are [available publicly here](https://www.youtube.com/watch?v=7FLv1ACEl-E&list=PLWmXHcz_53Q26aQzhknaT3zwWvl7w8wQE&index=2)."
   ]
  },
  {
   "cell_type": "markdown",
   "metadata": {},
   "source": [
    "## Comments in python (0 min)"
   ]
  },
  {
   "cell_type": "code",
   "execution_count": 1,
   "metadata": {},
   "outputs": [],
   "source": [
    "x = 1 # 5 + 5this is a comment"
   ]
  },
  {
   "cell_type": "code",
   "execution_count": 2,
   "metadata": {},
   "outputs": [],
   "source": [
    "# \"\"\"\n",
    "# this is a string, which does nothing\n",
    "# and can be used as a comment\n",
    "# \"\"\"\n",
    "\n",
    "7\n",
    "\n",
    "\n",
    "x = 1"
   ]
  },
  {
   "cell_type": "markdown",
   "metadata": {},
   "source": [
    "## Why Python? (0 min)\n",
    "\n",
    "- Why did we choose Python in the MDS program?\n",
    "  - Extremely popular in DS (and beyond!)\n",
    "  - Relatively easy to learn\n",
    "  - Good documentation\n",
    "  - **Huge user community**\n",
    "    - Lots of Stack Overflow and other forums\n",
    "    - Lots of useful packages (more on this next week)"
   ]
  },
  {
   "cell_type": "markdown",
   "metadata": {},
   "source": [
    "## Loops (10 min)"
   ]
  },
  {
   "cell_type": "markdown",
   "metadata": {},
   "source": [
    "- Loops allow us to execute a block of code multiple times. \n",
    "- We will focus on [`for` loops](https://docs.python.org/3/tutorial/controlflow.html#for-statements)"
   ]
  },
  {
   "cell_type": "code",
   "execution_count": 3,
   "metadata": {},
   "outputs": [
    {
     "data": {
      "text/plain": [
       "'I have 6 apples'"
      ]
     },
     "execution_count": 3,
     "metadata": {},
     "output_type": "execute_result"
    }
   ],
   "source": [
    "\"I have 5 apples\"\n",
    "\"I have 6 apples\""
   ]
  },
  {
   "cell_type": "code",
   "execution_count": 4,
   "metadata": {},
   "outputs": [
    {
     "name": "stdout",
     "output_type": "stream",
     "text": [
      "The number is 2 its square is 4\n",
      "The number is 7 its square is 49\n",
      "hallelujah\n",
      "The number is -1 its square is 1\n",
      "The number is 5 its square is 25\n",
      "hallelujah\n"
     ]
    }
   ],
   "source": [
    "for n in [2, 7, -1, 5]:\n",
    "    print(\"The number is\", n, \"its square is\", n**2)\n",
    "    if n > 2:\n",
    "        print(\"hallelujah\")\n",
    "    # this is inside the loop\n",
    "# this is outside the loop"
   ]
  },
  {
   "cell_type": "code",
   "execution_count": 5,
   "metadata": {},
   "outputs": [
    {
     "data": {
      "text/plain": [
       "array([ 0,  2,  4,  6,  8, 10, 12, 14, 16, 18, 20, 22, 24, 26, 28, 30, 32,\n",
       "       34, 36, 38, 40, 42, 44, 46, 48, 50, 52, 54, 56, 58, 60, 62, 64, 66,\n",
       "       68, 70, 72, 74, 76, 78, 80, 82, 84, 86, 88, 90, 92, 94, 96, 98])"
      ]
     },
     "execution_count": 5,
     "metadata": {},
     "output_type": "execute_result"
    }
   ],
   "source": [
    "import numpy as np\n",
    "np.arange(0,100,2)"
   ]
  },
  {
   "cell_type": "markdown",
   "metadata": {},
   "source": [
    "The main points to notice:\n",
    "\n",
    "* Keyword `for` begins the loop\n",
    "* Colon `:` ends the first line of the loop\n",
    "* We can iterate over any kind of iterable: list, tuple, range, string. In this case, we are iterating over the values in a list\n",
    "* Block of code indented is executed for each value in the list (hence the name \"for\" loops, sometimes also called \"for each\" loops)\n",
    "* The loop ends after the variable `n` has taken all the values in the list"
   ]
  },
  {
   "cell_type": "code",
   "execution_count": 6,
   "metadata": {},
   "outputs": [
    {
     "data": {
      "text/plain": [
       "'abcdef'"
      ]
     },
     "execution_count": 6,
     "metadata": {},
     "output_type": "execute_result"
    }
   ],
   "source": [
    "\"abc\" + \"def\""
   ]
  },
  {
   "cell_type": "code",
   "execution_count": 7,
   "metadata": {},
   "outputs": [
    {
     "name": "stdout",
     "output_type": "stream",
     "text": [
      "Gimme a P!\n",
      "Gimme a y!\n",
      "Gimme a t!\n",
      "Gimme a h!\n",
      "Gimme a o!\n",
      "Gimme a n!\n",
      "\tWhat's that spell?!! Python!\n"
     ]
    }
   ],
   "source": [
    "word = \"Python\"\n",
    "for letter in word:\n",
    "    print(\"Gimme a \" + letter + \"!\")\n",
    "\n",
    "print(\"\\tWhat's that spell?!! \" + word + \"!\")"
   ]
  },
  {
   "cell_type": "markdown",
   "metadata": {},
   "source": [
    "- A very common pattern is to use `for` with `range`. \n",
    "- `range` gives you a sequence of integers up to some value."
   ]
  },
  {
   "cell_type": "code",
   "execution_count": 8,
   "metadata": {},
   "outputs": [
    {
     "name": "stdout",
     "output_type": "stream",
     "text": [
      "0\n",
      "1\n",
      "2\n",
      "3\n",
      "4\n",
      "5\n",
      "6\n",
      "7\n",
      "8\n",
      "9\n"
     ]
    }
   ],
   "source": [
    "for i in range(10):\n",
    "    print(i)"
   ]
  },
  {
   "cell_type": "markdown",
   "metadata": {},
   "source": [
    "We can also specify a start value and a skip-by value with `range`:"
   ]
  },
  {
   "cell_type": "code",
   "execution_count": 9,
   "metadata": {},
   "outputs": [
    {
     "name": "stdout",
     "output_type": "stream",
     "text": [
      "1\n",
      "11\n",
      "21\n",
      "31\n",
      "41\n",
      "51\n",
      "61\n",
      "71\n",
      "81\n",
      "91\n"
     ]
    }
   ],
   "source": [
    "for i in range(1,101,10):\n",
    "    print(i)"
   ]
  },
  {
   "cell_type": "markdown",
   "metadata": {},
   "source": [
    "We can write a loop inside another loop to iterate over multiple dimensions of data. Consider the following loop as enumerating the coordinates in a 3 by 3 grid of points."
   ]
  },
  {
   "cell_type": "code",
   "execution_count": 10,
   "metadata": {},
   "outputs": [
    {
     "name": "stdout",
     "output_type": "stream",
     "text": [
      "(1, 'a')\n",
      "(1, 'b')\n",
      "(1, 'c')\n",
      "(2, 'a')\n",
      "(2, 'b')\n",
      "(2, 'c')\n",
      "(3, 'a')\n",
      "(3, 'b')\n",
      "(3, 'c')\n"
     ]
    }
   ],
   "source": [
    "for x in [1,2,3]:\n",
    "    for y in [\"a\",\"b\",\"c\"]:\n",
    "        print((x,y))"
   ]
  },
  {
   "cell_type": "code",
   "execution_count": 11,
   "metadata": {},
   "outputs": [
    {
     "name": "stdout",
     "output_type": "stream",
     "text": [
      "1 a\n",
      "2 b\n",
      "3 c\n",
      "4 d\n"
     ]
    },
    {
     "ename": "IndexError",
     "evalue": "list index out of range",
     "output_type": "error",
     "traceback": [
      "\u001b[0;31m---------------------------------------------------------------------------\u001b[0m",
      "\u001b[0;31mIndexError\u001b[0m                                Traceback (most recent call last)",
      "\u001b[0;32m/var/folders/64/bfv2dn992m17r4ztvfrt93rh0000gn/T/ipykernel_57846/3489753105.py\u001b[0m in \u001b[0;36m<module>\u001b[0;34m\u001b[0m\n\u001b[1;32m      2\u001b[0m \u001b[0mlist_2\u001b[0m \u001b[0;34m=\u001b[0m \u001b[0;34m[\u001b[0m\u001b[0;34m\"a\"\u001b[0m\u001b[0;34m,\u001b[0m\u001b[0;34m\"b\"\u001b[0m\u001b[0;34m,\u001b[0m\u001b[0;34m\"c\"\u001b[0m\u001b[0;34m,\u001b[0m\u001b[0;34m\"d\"\u001b[0m\u001b[0;34m]\u001b[0m\u001b[0;34m\u001b[0m\u001b[0;34m\u001b[0m\u001b[0m\n\u001b[1;32m      3\u001b[0m \u001b[0;32mfor\u001b[0m \u001b[0mi\u001b[0m \u001b[0;32min\u001b[0m \u001b[0mrange\u001b[0m\u001b[0;34m(\u001b[0m\u001b[0;36m5\u001b[0m\u001b[0;34m)\u001b[0m\u001b[0;34m:\u001b[0m\u001b[0;34m\u001b[0m\u001b[0;34m\u001b[0m\u001b[0m\n\u001b[0;32m----> 4\u001b[0;31m     \u001b[0mprint\u001b[0m\u001b[0;34m(\u001b[0m\u001b[0mlist_1\u001b[0m\u001b[0;34m[\u001b[0m\u001b[0mi\u001b[0m\u001b[0;34m]\u001b[0m\u001b[0;34m,\u001b[0m \u001b[0mlist_2\u001b[0m\u001b[0;34m[\u001b[0m\u001b[0mi\u001b[0m\u001b[0;34m]\u001b[0m\u001b[0;34m)\u001b[0m\u001b[0;34m\u001b[0m\u001b[0;34m\u001b[0m\u001b[0m\n\u001b[0m",
      "\u001b[0;31mIndexError\u001b[0m: list index out of range"
     ]
    }
   ],
   "source": [
    "list_1 = [1,2,3,4,5]\n",
    "list_2 = [\"a\",\"b\",\"c\",\"d\"]\n",
    "for i in range(5):\n",
    "    print(list_1[i], list_2[i])"
   ]
  },
  {
   "cell_type": "code",
   "execution_count": null,
   "metadata": {},
   "outputs": [],
   "source": [
    "for i,j in zip(list_1,list_2):\n",
    "    print(i,j)"
   ]
  },
  {
   "cell_type": "markdown",
   "metadata": {},
   "source": [
    "We can loop through key-value pairs of a dictionary using `.items()`:"
   ]
  },
  {
   "cell_type": "code",
   "execution_count": null,
   "metadata": {},
   "outputs": [],
   "source": [
    "print(\"Hello\\\\nWorld\")"
   ]
  },
  {
   "cell_type": "code",
   "execution_count": null,
   "metadata": {},
   "outputs": [],
   "source": [
    "h = \"\"\"Hello \\\\n\n",
    "World\"\"\"\n",
    "\n",
    "print(h)"
   ]
  },
  {
   "cell_type": "code",
   "execution_count": null,
   "metadata": {},
   "outputs": [],
   "source": [
    "courses = {521 : \"awesome\",\n",
    "           551 : \"riveting\",\n",
    "           511 : \"naptime!\"}\n",
    "\n",
    "for course_num, description in courses.items():\n",
    "    print(\"DSCI\", course_num, \"is\", description)"
   ]
  },
  {
   "cell_type": "code",
   "execution_count": null,
   "metadata": {},
   "outputs": [],
   "source": [
    "for course_num,course_desc in courses.items():\n",
    "    print(course_num, course_desc)\n",
    "#    print(course_num, courses[course_num])"
   ]
  },
  {
   "cell_type": "markdown",
   "metadata": {},
   "source": [
    "Above: the general syntax is `for key, value in dictionary.items():`"
   ]
  },
  {
   "cell_type": "markdown",
   "metadata": {},
   "source": [
    "#### `while` loops\n",
    "\n",
    "- We can also use a [`while` loop](https://docs.python.org/3/reference/compound_stmts.html#while) to excute a block of code several times. \n",
    "- In reality, I rarely use these.\n",
    "- Beware! If the conditional expression is always `True`, then you've got an infintite loop! \n",
    "  - (Use the \"Stop\" button in the toolbar above, or Ctrl-C in the terminal, to kill the program if you get an infinite loop.)"
   ]
  },
  {
   "cell_type": "code",
   "execution_count": null,
   "metadata": {},
   "outputs": [],
   "source": [
    "n = 10\n",
    "while n > 0:\n",
    "    print(n)\n",
    "    n = n - 1\n",
    "\n",
    "print(\"Blast off!\")"
   ]
  },
  {
   "cell_type": "markdown",
   "metadata": {},
   "source": [
    "## Comprehensions (5 min)\n",
    "\n",
    "Comprehensions allow us to build lists/tuples/sets/dictionaries in one convenient, compact line of code."
   ]
  },
  {
   "cell_type": "code",
   "execution_count": 12,
   "metadata": {},
   "outputs": [
    {
     "data": {
      "text/plain": [
       "[0, 10, 20, 30, 40, 50, 60, 70, 80, 90]"
      ]
     },
     "execution_count": 12,
     "metadata": {},
     "output_type": "execute_result"
    }
   ],
   "source": [
    "[hh*10 for hh in range(10)]\n"
   ]
  },
  {
   "cell_type": "code",
   "execution_count": 13,
   "metadata": {
    "collapsed": false,
    "jupyter": {
     "outputs_hidden": false
    }
   },
   "outputs": [
    {
     "data": {
      "text/plain": [
       "['llo', 'bye', 'the', 'ism']"
      ]
     },
     "execution_count": 13,
     "metadata": {},
     "output_type": "execute_result"
    }
   ],
   "source": [
    "words = [\"hello\", \"goodbye\", \"the\", \"antidisestablishmentarianism\"]\n",
    "\n",
    "y = [word[-3:] for word in words]  # list comprehension\n",
    "y"
   ]
  },
  {
   "cell_type": "code",
   "execution_count": 14,
   "metadata": {},
   "outputs": [
    {
     "name": "stdout",
     "output_type": "stream",
     "text": [
      "llo\n",
      "bye\n",
      "the\n",
      "ism\n"
     ]
    }
   ],
   "source": [
    "for word in words:\n",
    "    print(word[-3:])"
   ]
  },
  {
   "cell_type": "code",
   "execution_count": 15,
   "metadata": {},
   "outputs": [
    {
     "data": {
      "text/plain": [
       "['llo', 'bye', 'the', 'ism']"
      ]
     },
     "execution_count": 15,
     "metadata": {},
     "output_type": "execute_result"
    }
   ],
   "source": [
    "y = list()\n",
    "for word in words:\n",
    "    y.append(word[-3:])\n",
    "y"
   ]
  },
  {
   "cell_type": "code",
   "execution_count": 16,
   "metadata": {
    "collapsed": false,
    "jupyter": {
     "outputs_hidden": false
    }
   },
   "outputs": [
    {
     "data": {
      "text/plain": [
       "{'hello': 5, 'goodbye': 7, 'the': 3, 'antidisestablishmentarianism': 28}"
      ]
     },
     "execution_count": 16,
     "metadata": {},
     "output_type": "execute_result"
    }
   ],
   "source": [
    "## Dictionary comprehension\n",
    "\n",
    "word_lengths = {word : len(word) for word in words} # dictionary comprehension\n",
    "word_lengths"
   ]
  },
  {
   "cell_type": "code",
   "execution_count": 17,
   "metadata": {},
   "outputs": [
    {
     "data": {
      "text/plain": [
       "{'hello': 'HELLO',\n",
       " 'goodbye': 'GOODBYE',\n",
       " 'the': 'THE',\n",
       " 'antidisestablishmentarianism': 'ANTIDISESTABLISHMENTARIANISM'}"
      ]
     },
     "execution_count": 17,
     "metadata": {},
     "output_type": "execute_result"
    }
   ],
   "source": [
    "word_upper = {word : word.upper() for word in words}\n",
    "word_upper"
   ]
  },
  {
   "cell_type": "code",
   "execution_count": 18,
   "metadata": {},
   "outputs": [
    {
     "name": "stdout",
     "output_type": "stream",
     "text": [
      "<generator object <genexpr> at 0x1119e7890>\n"
     ]
    }
   ],
   "source": [
    "y = (word[-1] for word in words)  # this is NOT a tuple comprehension - more on generators later\n",
    "print(y)"
   ]
  },
  {
   "cell_type": "code",
   "execution_count": 19,
   "metadata": {},
   "outputs": [
    {
     "name": "stdout",
     "output_type": "stream",
     "text": [
      "{'m', 'o', 'e'}\n"
     ]
    }
   ],
   "source": [
    "y = {word[-1] for word in words}  # set comprehension\n",
    "print(y)"
   ]
  },
  {
   "cell_type": "markdown",
   "metadata": {
    "tags": []
   },
   "source": [
    "## Functions intro (5 min)\n",
    "\n",
    "- Define a [**function**](https://docs.python.org/3/tutorial/controlflow.html#defining-functions) to re-use a block of code with different input parameters, also known as **arguments**. \n",
    "- For example, define a function called `square` which takes one input parameter `n` and returns the square `n**2`."
   ]
  },
  {
   "cell_type": "code",
   "execution_count": 50,
   "metadata": {},
   "outputs": [],
   "source": [
    "def square(n):\n",
    "    n_squared = n**2\n",
    "    return n_squared\n",
    "\n",
    "# quick test:\n",
    "assert square(2) ==4"
   ]
  },
  {
   "cell_type": "code",
   "execution_count": 51,
   "metadata": {},
   "outputs": [
    {
     "data": {
      "text/plain": [
       "152399025"
      ]
     },
     "execution_count": 51,
     "metadata": {},
     "output_type": "execute_result"
    }
   ],
   "source": [
    "square(12345)"
   ]
  },
  {
   "cell_type": "code",
   "execution_count": 52,
   "metadata": {},
   "outputs": [
    {
     "data": {
      "text/plain": [
       "4"
      ]
     },
     "execution_count": 52,
     "metadata": {},
     "output_type": "execute_result"
    }
   ],
   "source": [
    "square(2)"
   ]
  },
  {
   "cell_type": "code",
   "execution_count": 53,
   "metadata": {},
   "outputs": [
    {
     "data": {
      "text/plain": [
       "10000"
      ]
     },
     "execution_count": 53,
     "metadata": {},
     "output_type": "execute_result"
    }
   ],
   "source": [
    "square(100)"
   ]
  },
  {
   "cell_type": "code",
   "execution_count": 54,
   "metadata": {},
   "outputs": [],
   "source": [
    "# this will fail \n",
    "# square('hello')"
   ]
  },
  {
   "cell_type": "markdown",
   "metadata": {},
   "source": [
    "* Begins with `def` keyword, function name, input parameters and then colon (`:`)\n",
    "* Function block defined by indentation\n",
    "* Output or \"return\" value of the function is given by the `return` keyword"
   ]
  },
  {
   "cell_type": "markdown",
   "metadata": {},
   "source": [
    "#### Side effects\n",
    "\n",
    "- If a function changes the variables passed into it, then it is said to have **side effects**\n",
    "- Example:"
   ]
  },
  {
   "cell_type": "code",
   "execution_count": 112,
   "metadata": {},
   "outputs": [],
   "source": [
    "def silly_sum(sri):\n",
    "    sri.append(0)\n",
    "    return sum(sri)"
   ]
  },
  {
   "cell_type": "code",
   "execution_count": 113,
   "metadata": {},
   "outputs": [
    {
     "data": {
      "text/plain": [
       "10"
      ]
     },
     "execution_count": 113,
     "metadata": {},
     "output_type": "execute_result"
    }
   ],
   "source": [
    "silly_sum([1,2,3,4])"
   ]
  },
  {
   "cell_type": "markdown",
   "metadata": {},
   "source": [
    "Looks good, like it sums the numbers? But wait...\n"
   ]
  },
  {
   "cell_type": "code",
   "execution_count": 114,
   "metadata": {},
   "outputs": [
    {
     "data": {
      "text/plain": [
       "10"
      ]
     },
     "execution_count": 114,
     "metadata": {},
     "output_type": "execute_result"
    }
   ],
   "source": [
    "lst = [1,2,3,4]\n",
    "silly_sum(lst)"
   ]
  },
  {
   "cell_type": "code",
   "execution_count": 115,
   "metadata": {},
   "outputs": [
    {
     "data": {
      "text/plain": [
       "10"
      ]
     },
     "execution_count": 115,
     "metadata": {},
     "output_type": "execute_result"
    }
   ],
   "source": [
    "silly_sum(lst)"
   ]
  },
  {
   "cell_type": "code",
   "execution_count": 116,
   "metadata": {},
   "outputs": [
    {
     "data": {
      "text/plain": [
       "[1, 2, 3, 4, 0, 0]"
      ]
     },
     "execution_count": 116,
     "metadata": {},
     "output_type": "execute_result"
    }
   ],
   "source": [
    "lst"
   ]
  },
  {
   "cell_type": "markdown",
   "metadata": {},
   "source": [
    "- If your function has side effects like this, you must mention it in the documentation (later today).\n",
    "- More on how this works next class."
   ]
  },
  {
   "cell_type": "markdown",
   "metadata": {},
   "source": [
    "#### Null return type\n",
    "\n",
    "If you do not specify a return value, the function returns `None` when it terminates:"
   ]
  },
  {
   "cell_type": "code",
   "execution_count": 119,
   "metadata": {},
   "outputs": [
    {
     "name": "stdout",
     "output_type": "stream",
     "text": [
      "hello\n"
     ]
    }
   ],
   "source": [
    "def f(x):\n",
    "    x + 1 # no return!\n",
    "    if x == 999:\n",
    "        return\n",
    "    else:\n",
    "        return('hello')\n",
    "print(f(998))"
   ]
  },
  {
   "cell_type": "markdown",
   "metadata": {},
   "source": [
    "## DRY principle, designing good functions (15 min)\n",
    "\n",
    "- DRY: **Don't Repeat Yourself**\n",
    "- See [Wikipedia article](https://en.wikipedia.org/wiki/Don%27t_repeat_yourself)\n",
    "- Consider the task of, for each element of a list, turning it into a palindrome\n",
    "  - e.g. \"mike\" --> \"mikeekim\""
   ]
  },
  {
   "cell_type": "code",
   "execution_count": 126,
   "metadata": {},
   "outputs": [],
   "source": [
    "names = [\"milad\", \"rodolfo\", \"tiffany\", \"khalad\", \"jeff\", \"christel\",\"firas\"]"
   ]
  },
  {
   "cell_type": "code",
   "execution_count": 122,
   "metadata": {},
   "outputs": [
    {
     "data": {
      "text/plain": [
       "'ekim'"
      ]
     },
     "execution_count": 122,
     "metadata": {},
     "output_type": "execute_result"
    }
   ],
   "source": [
    "name = \"mike\"\n",
    "name[::-1]"
   ]
  },
  {
   "cell_type": "code",
   "execution_count": 128,
   "metadata": {},
   "outputs": [
    {
     "data": {
      "text/plain": [
       "['miladdalim',\n",
       " 'rodolfooflodor',\n",
       " 'tiffanyynaffit',\n",
       " 'khaladdalahk',\n",
       " 'jeffffej',\n",
       " 'christelletsirhc',\n",
       " 'firassarif']"
      ]
     },
     "execution_count": 128,
     "metadata": {},
     "output_type": "execute_result"
    }
   ],
   "source": [
    "names_backwards = list()\n",
    "\n",
    "names_backwards.append(names[0] + names[0][::-1])\n",
    "names_backwards.append(names[1] + names[1][::-1])\n",
    "names_backwards.append(names[2] + names[2][::-1])\n",
    "names_backwards.append(names[3] + names[3][::-1])\n",
    "names_backwards.append(names[4] + names[4][::-1])\n",
    "names_backwards.append(names[5] + names[5][::-1])\n",
    "names_backwards.append(names[6] + names[6][::-1])\n",
    "\n",
    "\n",
    "names_backwards"
   ]
  },
  {
   "cell_type": "markdown",
   "metadata": {},
   "source": [
    "- Above: this is gross, terrible, yucky code\n",
    "  1. It only works for a list with 3 elements\n",
    "  2. It only works for a list named `names`\n",
    "  3. If we want to change its functionality, we need to change 3 similar lines of code (Don't Repeat Yourself!!)\n",
    "  4. It is hard to understand what it does just by looking at it"
   ]
  },
  {
   "cell_type": "code",
   "execution_count": 127,
   "metadata": {},
   "outputs": [
    {
     "data": {
      "text/plain": [
       "['miladdalim',\n",
       " 'rodolfooflodor',\n",
       " 'tiffanyynaffit',\n",
       " 'khaladdalahk',\n",
       " 'jeffffej',\n",
       " 'christelletsirhc',\n",
       " 'firassarif']"
      ]
     },
     "execution_count": 127,
     "metadata": {},
     "output_type": "execute_result"
    }
   ],
   "source": [
    "names_backwards = list()\n",
    "\n",
    "for name in names:\n",
    "    names_backwards.append(name + name[::-1])\n",
    "    \n",
    "names_backwards"
   ]
  },
  {
   "cell_type": "markdown",
   "metadata": {},
   "source": [
    "Above: this is slightly better. We have solved problems (1) and (3)."
   ]
  },
  {
   "cell_type": "code",
   "execution_count": 130,
   "metadata": {},
   "outputs": [],
   "source": [
    "def make_palindromes(names):\n",
    "    names_backwards = list()\n",
    "    \n",
    "    for name in names:\n",
    "        names_backwards.append(name + name[::-1])\n",
    "    \n",
    "    return names_backwards"
   ]
  },
  {
   "cell_type": "code",
   "execution_count": 133,
   "metadata": {},
   "outputs": [],
   "source": [
    "p_name = make_palindromes(names)"
   ]
  },
  {
   "cell_type": "code",
   "execution_count": 135,
   "metadata": {},
   "outputs": [
    {
     "name": "stdout",
     "output_type": "stream",
     "text": [
      "MILADDALIM\n",
      "RODOLFOOFLODOR\n",
      "TIFFANYYNAFFIT\n",
      "KHALADDALAHK\n",
      "JEFFFFEJ\n",
      "CHRISTELLETSIRHC\n",
      "FIRASSARIF\n"
     ]
    }
   ],
   "source": [
    "for p in p_name:\n",
    "    print(p.upper())"
   ]
  },
  {
   "cell_type": "markdown",
   "metadata": {},
   "source": [
    "- Above: this is even better. We have now also solved problem (2), because you can call the function with any list, not just `names`. \n",
    "- For example, what if we had multiple _lists_:"
   ]
  },
  {
   "cell_type": "code",
   "execution_count": 136,
   "metadata": {},
   "outputs": [],
   "source": [
    "names1 = [\"milad\", \"rodolfo\", \"tiffany\"]\n",
    "names2 = [\"Trudeau\", \"Scheer\", \"Singh\", \"Blanchet\", \"May\"]\n",
    "names3 = [\"apple\", \"orange\", \"banana\"]"
   ]
  },
  {
   "cell_type": "code",
   "execution_count": 137,
   "metadata": {},
   "outputs": [
    {
     "data": {
      "text/plain": [
       "['miladdalim', 'rodolfooflodor', 'tiffanyynaffit']"
      ]
     },
     "execution_count": 137,
     "metadata": {},
     "output_type": "execute_result"
    }
   ],
   "source": [
    "names_backwards_1 = list()\n",
    "\n",
    "for name in names1:\n",
    "    names_backwards_1.append(name + name[::-1])\n",
    "    \n",
    "names_backwards_1"
   ]
  },
  {
   "cell_type": "code",
   "execution_count": 138,
   "metadata": {},
   "outputs": [
    {
     "data": {
      "text/plain": [
       "['TrudeauuaedurT', 'ScheerreehcS', 'SinghhgniS', 'BlanchettehcnalB', 'MayyaM']"
      ]
     },
     "execution_count": 138,
     "metadata": {},
     "output_type": "execute_result"
    }
   ],
   "source": [
    "names_backwards_2 = list()\n",
    "\n",
    "for name in names2:\n",
    "    names_backwards_2.append(name + name[::-1])\n",
    "    \n",
    "names_backwards_2"
   ]
  },
  {
   "cell_type": "code",
   "execution_count": 139,
   "metadata": {},
   "outputs": [
    {
     "data": {
      "text/plain": [
       "['appleelppa', 'orangeegnaro', 'bananaananab']"
      ]
     },
     "execution_count": 139,
     "metadata": {},
     "output_type": "execute_result"
    }
   ],
   "source": [
    "names_backwards_3 = list()\n",
    "\n",
    "for name in names3:\n",
    "    names_backwards_3.append(name + name[::-1])\n",
    "    \n",
    "names_backwards_3"
   ]
  },
  {
   "cell_type": "markdown",
   "metadata": {},
   "source": [
    "Above: this is very bad also (and imagine if it was 20 lines of code instead of 2). This was problem (2). Our function makes it much better:"
   ]
  },
  {
   "cell_type": "code",
   "execution_count": 140,
   "metadata": {},
   "outputs": [
    {
     "data": {
      "text/plain": [
       "['miladdalim', 'rodolfooflodor', 'tiffanyynaffit']"
      ]
     },
     "execution_count": 140,
     "metadata": {},
     "output_type": "execute_result"
    }
   ],
   "source": [
    "make_palindromes(names1)"
   ]
  },
  {
   "cell_type": "code",
   "execution_count": 141,
   "metadata": {},
   "outputs": [
    {
     "data": {
      "text/plain": [
       "['TrudeauuaedurT', 'ScheerreehcS', 'SinghhgniS', 'BlanchettehcnalB', 'MayyaM']"
      ]
     },
     "execution_count": 141,
     "metadata": {},
     "output_type": "execute_result"
    }
   ],
   "source": [
    "make_palindromes(names2)"
   ]
  },
  {
   "cell_type": "code",
   "execution_count": 142,
   "metadata": {},
   "outputs": [
    {
     "data": {
      "text/plain": [
       "['appleelppa', 'orangeegnaro', 'bananaananab']"
      ]
     },
     "execution_count": 142,
     "metadata": {},
     "output_type": "execute_result"
    }
   ],
   "source": [
    "make_palindromes(names3)"
   ]
  },
  {
   "cell_type": "markdown",
   "metadata": {},
   "source": [
    "- You could get even more fancy, and put the lists of names into a list (so you have a list of lists). \n",
    "- Then you could loop over the list and call the function each time:"
   ]
  },
  {
   "cell_type": "code",
   "execution_count": 143,
   "metadata": {},
   "outputs": [
    {
     "name": "stdout",
     "output_type": "stream",
     "text": [
      "['miladdalim', 'rodolfooflodor', 'tiffanyynaffit']\n",
      "['TrudeauuaedurT', 'ScheerreehcS', 'SinghhgniS', 'BlanchettehcnalB', 'MayyaM']\n",
      "['appleelppa', 'orangeegnaro', 'bananaananab']\n"
     ]
    }
   ],
   "source": [
    "for list_of_names in [names1, names2, names3]:\n",
    "    print(make_palindromes(list_of_names))"
   ]
  },
  {
   "cell_type": "markdown",
   "metadata": {},
   "source": [
    "#### Designing good functions"
   ]
  },
  {
   "cell_type": "markdown",
   "metadata": {},
   "source": [
    "- How far you go with this is sort of a matter of personal style, and how you choose to apply the DRY principle: DON'T REPEAT YOURSELF!\n",
    "- These decisions are often ambiguous. For example: \n",
    "  - Should `make_palindromes` be a function if I'm only ever doing it once? Twice?\n",
    "  - Should the loop be inside the function, or outside?\n",
    "  - Or should there be TWO functions, one that loops over the other??"
   ]
  },
  {
   "cell_type": "markdown",
   "metadata": {},
   "source": [
    "- In my personal opinion, `make_palindromes` does a bit too much to be understandable.\n",
    "- I prefer this:"
   ]
  },
  {
   "cell_type": "code",
   "execution_count": null,
   "metadata": {},
   "outputs": [],
   "source": [
    "def make_palindrome(name):\n",
    "    return name + name[::-1]\n",
    "\n",
    "make_palindrome(\"milad\")"
   ]
  },
  {
   "cell_type": "markdown",
   "metadata": {},
   "source": [
    "- From here, we want to \"apply `make_palindrome` to every element of a list\"\n",
    "- It turns out this is an extremely common desire, so Python has built-in functions.\n",
    "- One of these is `map`, which we'll cover later. But for now, just a comprehension will do:"
   ]
  },
  {
   "cell_type": "code",
   "execution_count": null,
   "metadata": {},
   "outputs": [],
   "source": [
    "[make_palindrome(name) for name in names]"
   ]
  },
  {
   "cell_type": "markdown",
   "metadata": {},
   "source": [
    "Other function design considerations:\n",
    "\n",
    "- Should we print output or produce plots inside or outside functions? \n",
    "  - I would usually say outside, because this is a \"side effect\" of sorts\n",
    "- Should the function do one thing or many things?\n",
    "  - This is a tough one, hard to answer in general"
   ]
  },
  {
   "cell_type": "markdown",
   "metadata": {},
   "source": [
    "## Break (5 min)"
   ]
  },
  {
   "cell_type": "markdown",
   "metadata": {},
   "source": [
    "## Optional & keyword arguments (5 min)\n",
    "\n",
    "- Sometimes it is convenient to have _default values_ for some arguments in a function. \n",
    "- Because they have default values, these arguments are optional, hence \"optional arguments\"\n",
    "- Example:"
   ]
  },
  {
   "cell_type": "code",
   "execution_count": 158,
   "metadata": {},
   "outputs": [],
   "source": [
    "def repeat_string(s, n=2):\n",
    "    return s*n"
   ]
  },
  {
   "cell_type": "code",
   "execution_count": 153,
   "metadata": {},
   "outputs": [
    {
     "data": {
      "text/plain": [
       "'mdsmds'"
      ]
     },
     "execution_count": 153,
     "metadata": {},
     "output_type": "execute_result"
    }
   ],
   "source": [
    "repeat_string(\"mds\", 2)"
   ]
  },
  {
   "cell_type": "code",
   "execution_count": 154,
   "metadata": {},
   "outputs": [
    {
     "data": {
      "text/plain": [
       "'mdsmdsmdsmdsmds'"
      ]
     },
     "execution_count": 154,
     "metadata": {},
     "output_type": "execute_result"
    }
   ],
   "source": [
    "repeat_string(\"mds\", 5)"
   ]
  },
  {
   "cell_type": "markdown",
   "metadata": {},
   "source": [
    "Sane defaults:\n",
    "\n",
    "- Ideally, the default should be carefully chosen. \n",
    "- Here, the idea of \"repeating\" something makes me think of having 2 copies, so `n=2` feels like a sane default."
   ]
  },
  {
   "cell_type": "markdown",
   "metadata": {},
   "source": [
    "Syntax:\n",
    "\n",
    "- You can have any number of arguments and any number of optional arguments\n",
    "- **All the optional arguments must come after the regular arguments\n",
    "- The regular arguments are mapped by the order they appear\n",
    "- The optional arguments can be specified out of order"
   ]
  },
  {
   "cell_type": "code",
   "execution_count": 177,
   "metadata": {},
   "outputs": [
    {
     "name": "stdout",
     "output_type": "stream",
     "text": [
      "1 2 3 4\n"
     ]
    }
   ],
   "source": [
    "def example(a, b, c=\"DEFAULT\", d=\"DEFAULT\"):\n",
    "    print(a,b,c,d)\n",
    "    \n",
    "example(1,2,3,4)"
   ]
  },
  {
   "cell_type": "markdown",
   "metadata": {},
   "source": [
    "Using the defaults for `c` and `d`:"
   ]
  },
  {
   "cell_type": "code",
   "execution_count": 178,
   "metadata": {},
   "outputs": [
    {
     "name": "stdout",
     "output_type": "stream",
     "text": [
      "1 2 DEFAULT DEFAULT\n"
     ]
    }
   ],
   "source": [
    "example(1,2)"
   ]
  },
  {
   "cell_type": "markdown",
   "metadata": {},
   "source": [
    "Specifying `c` and `d` as **keyword arguments** (i.e. by name):"
   ]
  },
  {
   "cell_type": "code",
   "execution_count": 179,
   "metadata": {},
   "outputs": [
    {
     "name": "stdout",
     "output_type": "stream",
     "text": [
      "1 2 3 4\n"
     ]
    }
   ],
   "source": [
    "example(1,2,c=3,d=4)"
   ]
  },
  {
   "cell_type": "markdown",
   "metadata": {},
   "source": [
    "Specifying only one of the optional arguments, by keyword:"
   ]
  },
  {
   "cell_type": "code",
   "execution_count": 180,
   "metadata": {},
   "outputs": [
    {
     "name": "stdout",
     "output_type": "stream",
     "text": [
      "1 2 3 DEFAULT\n"
     ]
    }
   ],
   "source": [
    "example(1,2,c=3)"
   ]
  },
  {
   "cell_type": "markdown",
   "metadata": {},
   "source": [
    "Or the other:"
   ]
  },
  {
   "cell_type": "code",
   "execution_count": 181,
   "metadata": {},
   "outputs": [
    {
     "name": "stdout",
     "output_type": "stream",
     "text": [
      "1 2 DEFAULT 4\n"
     ]
    }
   ],
   "source": [
    "example(1,2,d=4)"
   ]
  },
  {
   "cell_type": "markdown",
   "metadata": {},
   "source": [
    "Specifying all the arguments as keyword arguments, even though only `c` and `d` are optional:"
   ]
  },
  {
   "cell_type": "code",
   "execution_count": 182,
   "metadata": {},
   "outputs": [
    {
     "name": "stdout",
     "output_type": "stream",
     "text": [
      "1 2 3 4\n"
     ]
    }
   ],
   "source": [
    "example(a=1,b=2,c=3,d=4)"
   ]
  },
  {
   "cell_type": "markdown",
   "metadata": {},
   "source": [
    "Specifying `c` by the fact that it comes 3rd (I do not recommend this because I find it is confusing):"
   ]
  },
  {
   "cell_type": "code",
   "execution_count": 183,
   "metadata": {},
   "outputs": [
    {
     "name": "stdout",
     "output_type": "stream",
     "text": [
      "1 2 3 DEFAULT\n"
     ]
    }
   ],
   "source": [
    "example(1,2,3) "
   ]
  },
  {
   "cell_type": "markdown",
   "metadata": {},
   "source": [
    "Specifying the optional arguments by keyword, but in the wrong order (this is also somewhat confusing, but not so terrible - I am OK with it):"
   ]
  },
  {
   "cell_type": "code",
   "execution_count": 184,
   "metadata": {},
   "outputs": [
    {
     "name": "stdout",
     "output_type": "stream",
     "text": [
      "1 2 3 4\n"
     ]
    }
   ],
   "source": [
    "example(1,2,d=4,c=3) "
   ]
  },
  {
   "cell_type": "markdown",
   "metadata": {},
   "source": [
    "Specifying the non-optional arguments by keyword (I am fine with this):"
   ]
  },
  {
   "cell_type": "code",
   "execution_count": 185,
   "metadata": {},
   "outputs": [
    {
     "name": "stdout",
     "output_type": "stream",
     "text": [
      "1 2 DEFAULT DEFAULT\n"
     ]
    }
   ],
   "source": [
    "example(a=1,b=2)"
   ]
  },
  {
   "cell_type": "markdown",
   "metadata": {},
   "source": [
    "Specifying the non-optional arguments by keyword, but in the wrong order (not recommended, I find it confusing):"
   ]
  },
  {
   "cell_type": "code",
   "execution_count": 186,
   "metadata": {},
   "outputs": [
    {
     "name": "stdout",
     "output_type": "stream",
     "text": [
      "1 2 DEFAULT DEFAULT\n"
     ]
    }
   ],
   "source": [
    "example(b=2,a=1)"
   ]
  },
  {
   "cell_type": "markdown",
   "metadata": {},
   "source": [
    "Specifying keyword arguments before non-keyword arguments (this throws an error):"
   ]
  },
  {
   "cell_type": "code",
   "execution_count": 193,
   "metadata": {},
   "outputs": [
    {
     "name": "stdout",
     "output_type": "stream",
     "text": [
      "2 1 DEFAULT DEFAULT\n"
     ]
    }
   ],
   "source": [
    "example(a=2,b=1)"
   ]
  },
  {
   "cell_type": "markdown",
   "metadata": {},
   "source": [
    "- In general, I am used to calling non-optional arguments by order, and optional arguments by keyword.\n",
    "- The language allows us to deviate from this, but it can be unnecessarily confusing sometimes."
   ]
  },
  {
   "cell_type": "markdown",
   "metadata": {},
   "source": [
    "#### Advanced stuff (optional):\n",
    "\n",
    "- You can also call/define functions with `*args` and `**kwargs`; see, e.g. [here](https://realpython.com/python-kwargs-and-args/)\n",
    "- Do not instantiate objects in the function definition - see [here](https://docs.python-guide.org/writing/gotchas/) under \"Mutable Default Arguments\""
   ]
  },
  {
   "cell_type": "code",
   "execution_count": null,
   "metadata": {},
   "outputs": [],
   "source": [
    "def example(a, b=[]): # don't do this!\n",
    "    return 0"
   ]
  },
  {
   "cell_type": "code",
   "execution_count": null,
   "metadata": {},
   "outputs": [],
   "source": [
    "def example(a, b=None): # insted, do this\n",
    "    if b is None:\n",
    "        b = []\n",
    "    return 0"
   ]
  },
  {
   "cell_type": "markdown",
   "metadata": {},
   "source": [
    "## Docstrings (10 min)"
   ]
  },
  {
   "cell_type": "markdown",
   "metadata": {},
   "source": [
    "- We got pretty far above, but we never solved problem (4):  It is hard to understand what it does just by looking at it\n",
    "- Enter the idea of function documentation (and in particular docstrings)\n",
    "- The [docstring](https://www.python.org/dev/peps/pep-0257/) goes right after the `def` line."
   ]
  },
  {
   "cell_type": "code",
   "execution_count": 194,
   "metadata": {},
   "outputs": [],
   "source": [
    "def make_palindrome(string):\n",
    "    \"\"\"Turns the string into a palindrome by concatenating itself with a reversed version of itself.\"\"\"\n",
    "    \n",
    "    return string + string[::-1]"
   ]
  },
  {
   "cell_type": "markdown",
   "metadata": {},
   "source": [
    "In IPython/Jupyter, we can use `?` to view the documentation string of any function in our environment."
   ]
  },
  {
   "cell_type": "code",
   "execution_count": 195,
   "metadata": {},
   "outputs": [
    {
     "data": {
      "text/plain": [
       "\u001b[0;31mSignature:\u001b[0m \u001b[0mmake_palindrome\u001b[0m\u001b[0;34m(\u001b[0m\u001b[0mstring\u001b[0m\u001b[0;34m)\u001b[0m\u001b[0;34m\u001b[0m\u001b[0;34m\u001b[0m\u001b[0m\n",
       "\u001b[0;31mDocstring:\u001b[0m Turns the string into a palindrome by concatenating itself with a reversed version of itself.\n",
       "\u001b[0;31mFile:\u001b[0m      /var/folders/64/bfv2dn992m17r4ztvfrt93rh0000gn/T/ipykernel_57846/3228062869.py\n",
       "\u001b[0;31mType:\u001b[0m      function\n"
      ]
     },
     "metadata": {},
     "output_type": "display_data"
    }
   ],
   "source": [
    "make_palindrome"
   ]
  },
  {
   "cell_type": "code",
   "execution_count": null,
   "metadata": {},
   "outputs": [],
   "source": [
    "print?"
   ]
  },
  {
   "cell_type": "markdown",
   "metadata": {},
   "source": [
    "#### Docstring structure\n",
    "\n",
    "1. **Single-line**: If it's short, then just a single line describing the function will do (as above).\n",
    "2. **PEP-8 style** Multi-line description + a list of arguments; see [here](https://www.python.org/dev/peps/pep-0257/).\n",
    "3. **Scipy style**: The most elaborate & informative; see [here](https://numpydoc.readthedocs.io/en/latest/format.html) and [here](https://sphinxcontrib-napoleon.readthedocs.io/en/latest/example_numpy.html).\n"
   ]
  },
  {
   "cell_type": "markdown",
   "metadata": {},
   "source": [
    "The PEP-8 style:"
   ]
  },
  {
   "cell_type": "code",
   "execution_count": null,
   "metadata": {},
   "outputs": [],
   "source": [
    "def make_palindrome(string):\n",
    "    \"\"\"\n",
    "    Turns the string into a palindrome by concatenating itself \n",
    "    with a reversed version of itself.\n",
    "    \n",
    "    Arguments:\n",
    "    string - (str) the string to turn into a palindrome\n",
    "    \"\"\"\n",
    "    return string + string[::-1]"
   ]
  },
  {
   "cell_type": "code",
   "execution_count": null,
   "metadata": {},
   "outputs": [],
   "source": [
    "make_palindrome?"
   ]
  },
  {
   "cell_type": "markdown",
   "metadata": {},
   "source": [
    "The scipy style:"
   ]
  },
  {
   "cell_type": "code",
   "execution_count": null,
   "metadata": {},
   "outputs": [],
   "source": [
    "def make_palindrome(string):\n",
    "    \"\"\"\n",
    "    Turn a string into a palindrome.\n",
    "    \n",
    "    Turns the string into a palindrome by concatenating itself \n",
    "    with a reversed version of itself, so that the returned\n",
    "    string is twice as long as the original.\n",
    "    \n",
    "    Parameters\n",
    "    ----------\n",
    "    string : str\n",
    "        The string to turn into a palindrome.\n",
    "        \n",
    "    Returns\n",
    "    -------\n",
    "    str\n",
    "        The new palindrome string. \n",
    "        \n",
    "    Examples\n",
    "    --------\n",
    "    >>> make_palindrome(\"abc\")\n",
    "    \"abccba\"\n",
    "    \"\"\"\n",
    "    return string + string[::-1]"
   ]
  },
  {
   "cell_type": "code",
   "execution_count": null,
   "metadata": {},
   "outputs": [],
   "source": [
    "make_palindrome(# press shift-tab HERE to get docstring!!"
   ]
  },
  {
   "cell_type": "markdown",
   "metadata": {},
   "source": [
    "Below is the general form of the scipy docstring (reproduced from the scipy/numpy docs):"
   ]
  },
  {
   "cell_type": "code",
   "execution_count": null,
   "metadata": {},
   "outputs": [],
   "source": [
    "def function_name(param1,param2,param3):\n",
    "    \"\"\"First line is a short description of the function.\n",
    "    \n",
    "    A paragraph describing in a bit more detail what the\n",
    "    function does and what algorithms it uses and common\n",
    "    use cases.\n",
    "    \n",
    "    Parameters\n",
    "    ----------\n",
    "    param1 : datatype\n",
    "        A description of param1.\n",
    "    param2 : datatype\n",
    "        A description of param2.\n",
    "    param3 : datatype\n",
    "        A longer description because maybe this requires\n",
    "        more explanation and we can use several lines.\n",
    "    \n",
    "    Returns\n",
    "    -------\n",
    "    datatype\n",
    "        A description of the output, datatypes and behaviours.\n",
    "        Describe special cases and anything the user needs to\n",
    "        know to use the function.\n",
    "    \n",
    "    Examples\n",
    "    --------\n",
    "    >>> function_name(3,8,-5)\n",
    "    2.0\n",
    "    \"\"\""
   ]
  },
  {
   "cell_type": "markdown",
   "metadata": {},
   "source": [
    "#### Docstrings in your labs\n",
    "\n",
    "In MDS we will accept:\n",
    "\n",
    "- One-line docstrings for very simple functions.\n",
    "- Either the PEP-8 or scipy style for bigger functions.\n",
    "  - But we think the scipy style is more common in the wild so you may want to get into the habit of using it.\n",
    "  - Personally, I like that it explicitly gives the datatype of the return value."
   ]
  },
  {
   "cell_type": "markdown",
   "metadata": {},
   "source": [
    "#### Docstrings with optional arguments\n",
    "\n",
    "When specifying the parameters, we specify the defaults for optional arguments:"
   ]
  },
  {
   "cell_type": "code",
   "execution_count": null,
   "metadata": {},
   "outputs": [],
   "source": [
    "# PEP-8 style\n",
    "def repeat_string(s, n=2):\n",
    "    \"\"\"\n",
    "    Repeat the string s, n times.\n",
    "    \n",
    "    Arguments:\n",
    "    s -- (str) the string\n",
    "    n -- (int) the number of times (default 2)\n",
    "    \"\"\"\n",
    "    return s*n"
   ]
  },
  {
   "cell_type": "code",
   "execution_count": null,
   "metadata": {},
   "outputs": [],
   "source": [
    "# scipy style\n",
    "def repeat_string(s, n=2):\n",
    "    \"\"\"\n",
    "    Repeat the string s, n times.\n",
    "    \n",
    "    Parameters\n",
    "    ----------\n",
    "    s : str \n",
    "        the string\n",
    "    n : int, optional (default = 2)\n",
    "        the number of times\n",
    "        \n",
    "    Returns\n",
    "    -------\n",
    "    str\n",
    "        the repeated string\n",
    "        \n",
    "    Examples\n",
    "    --------\n",
    "    >>> repeat_string(\"Blah\", 3)\n",
    "    \"BlahBlahBlah\"\n",
    "    \"\"\"\n",
    "    return s*n"
   ]
  },
  {
   "cell_type": "markdown",
   "metadata": {},
   "source": [
    "#### Automatically generated documentation\n",
    "\n",
    "- By following the docstring conventions, we can _automatically generate documentation_ using libraries like [sphinx](http://www.sphinx-doc.org/en/master/), [pydoc](https://docs.python.org/3.7/library/pydoc.html) or [Doxygen](http://www.doxygen.nl/).\n",
    "  - For example: compare this [documentation](https://scikit-learn.org/stable/modules/generated/sklearn.neighbors.KNeighborsClassifier.html) with this [code](https://github.com/scikit-learn/scikit-learn/blob/1495f6924/sklearn/neighbors/classification.py#L23).\n",
    "  - Notice the similarities? The webpage was automatically generated because the authors used standard conventions for docstrings!"
   ]
  },
  {
   "cell_type": "markdown",
   "metadata": {},
   "source": [
    "#### What makes good documentation?\n",
    "\n",
    "- What do you think about this?"
   ]
  },
  {
   "cell_type": "code",
   "execution_count": null,
   "metadata": {},
   "outputs": [],
   "source": [
    "################################\n",
    "#\n",
    "# NOT RECOMMENDED TO DO THIS!!!\n",
    "#\n",
    "################################\n",
    "\n",
    "def make_palindrome(string):\n",
    "    \"\"\"\n",
    "    Turns the string into a palindrome by concatenating itself \n",
    "    with a reversed version of itself. To do this, it uses the\n",
    "    Python syntax of `[::-1]` to flip the string, and stores\n",
    "    this in a variable called string_reversed. It then uses `+`\n",
    "    to concatenate the two strings and return them to the caller.\n",
    "    \n",
    "    Arguments:\n",
    "    string - (str) the string to turn into a palindrome\n",
    "    \n",
    "    Other variables:\n",
    "    string_reversed - (str) the reversed string\n",
    "    \"\"\"\n",
    "    \n",
    "    string_reversed = string[::-1]\n",
    "    return string + string_reversed"
   ]
  },
  {
   "cell_type": "markdown",
   "metadata": {},
   "source": [
    "<br><br>\n",
    "\n",
    "- This is poor documentation! More is not necessarily better!\n",
    "- Why?\n",
    "  - "
   ]
  },
  {
   "cell_type": "markdown",
   "metadata": {},
   "source": [
    "## Unit tests, corner cases (10 min)"
   ]
  },
  {
   "cell_type": "markdown",
   "metadata": {},
   "source": [
    "#### `assert` statements\n",
    "\n",
    "- `assert` statementS cause your program to fail if the condition is `False`.\n",
    "- They can be used as sanity checks for your program.\n",
    "- There are more sophisticated way to \"test\" your programs, which we'll discuss in Workflows.\n",
    "- The syntax is:\n",
    "\n",
    "```python\n",
    "assert expression , \"Error message if expression is False or raises an error.\"\n",
    "```"
   ]
  },
  {
   "cell_type": "code",
   "execution_count": 8,
   "metadata": {},
   "outputs": [
    {
     "ename": "AssertionError",
     "evalue": "4 is not equal to 5.",
     "output_type": "error",
     "traceback": [
      "\u001b[0;31m---------------------------------------------------------------------------\u001b[0m",
      "\u001b[0;31mAssertionError\u001b[0m                            Traceback (most recent call last)",
      "\u001b[0;32m/var/folders/64/bfv2dn992m17r4ztvfrt93rh0000gn/T/ipykernel_47819/2631928364.py\u001b[0m in \u001b[0;36m<module>\u001b[0;34m\u001b[0m\n\u001b[1;32m      3\u001b[0m \u001b[0;34m\u001b[0m\u001b[0m\n\u001b[1;32m      4\u001b[0m \u001b[0;31m# Change this assert statement so a and b is used instead of \"hard-coded 1 and 2\"\u001b[0m\u001b[0;34m\u001b[0m\u001b[0;34m\u001b[0m\u001b[0m\n\u001b[0;32m----> 5\u001b[0;31m \u001b[0;32massert\u001b[0m \u001b[0ma\u001b[0m \u001b[0;34m==\u001b[0m \u001b[0mb\u001b[0m \u001b[0;34m,\u001b[0m \u001b[0;34mf\"{a} is not equal to {b}.\"\u001b[0m\u001b[0;34m\u001b[0m\u001b[0;34m\u001b[0m\u001b[0m\n\u001b[0m",
      "\u001b[0;31mAssertionError\u001b[0m: 4 is not equal to 5."
     ]
    }
   ],
   "source": [
    "a = 4\n",
    "b = 5\n",
    "\n",
    "# Change this assert statement so a and b is used instead of \"hard-coded 1 and 2\"\n",
    "assert a == b , f\"{a} is not equal to {b}.\""
   ]
  },
  {
   "cell_type": "markdown",
   "metadata": {},
   "source": [
    "#### Systematic Program Design"
   ]
  },
  {
   "cell_type": "markdown",
   "metadata": {},
   "source": [
    "A systematic approach to program design is a general set of steps to follow when writing programs. Our approach includes:\n",
    "\n",
    "1. Write a stub: a function that does nothing but accept all input parameters and return the correct datatype.\n",
    "2. Write tests to satisfy the design specifications.\n",
    "3. Outline the program with pseudo-code.\n",
    "4. Write code and test frequently.\n",
    "5. Write documentation.\n",
    "\n",
    "The key point: write tests BEFORE you write code.\n",
    "\n",
    "- You do not have to do this in MDS, but you may find it surprisingly helpful.\n",
    "- Often writing tests helps you think through what you are trying to accomplish.\n",
    "- It's best to have that clear before you write the actual code."
   ]
  },
  {
   "cell_type": "code",
   "execution_count": 9,
   "metadata": {},
   "outputs": [],
   "source": [
    "# Task: Let's calculate area of a rectangle, given length and width"
   ]
  },
  {
   "cell_type": "code",
   "execution_count": 20,
   "metadata": {},
   "outputs": [
    {
     "name": "stdout",
     "output_type": "stream",
     "text": [
      "the area should be : 25 but is 25\n",
      "the area should be : 25 but is 25\n"
     ]
    },
    {
     "data": {
      "text/plain": [
       "25"
      ]
     },
     "execution_count": 20,
     "metadata": {},
     "output_type": "execute_result"
    }
   ],
   "source": [
    "def calculate_rectangle_area(length, width):\n",
    "    \"\"\" Computes the area of a rectangle given a length and a width\n",
    "    inputs: length (float) and width(float)\n",
    "    \n",
    "    oututs: area (float)\n",
    "    \"\"\"\n",
    "    \n",
    "    # Check the inputs\n",
    "    # check if length and width are floats\n",
    "    \n",
    "    # Compute area\n",
    "    area = length * width\n",
    "    \n",
    "    print(f\"the area should be : {length * width} but is {area}\")\n",
    "    \n",
    "    return area\n",
    "\n",
    "assert calculate_rectangle_area(5,5) == 25, \"the function is not quite correct because the area of a 5x5 should be 25.\"\n",
    "calculate_rectangle_area(5,5)"
   ]
  },
  {
   "cell_type": "code",
   "execution_count": null,
   "metadata": {},
   "outputs": [],
   "source": []
  },
  {
   "cell_type": "markdown",
   "metadata": {},
   "source": [
    "#### Testing woes - false positives\n",
    "\n",
    "- **Just because all your tests pass, this does not mean your program is correct!!**\n",
    "- This happens all the time. How to deal with it?\n",
    "  - Write a lot of tests!\n",
    "  - Don't be overconfident, even after writing a lot of tests!"
   ]
  },
  {
   "cell_type": "code",
   "execution_count": 34,
   "metadata": {},
   "outputs": [],
   "source": [
    "def sample_median(x):\n",
    "    \"\"\"Finds the median of a list of numbers.\"\"\"\n",
    "    x_sorted = sorted(x)\n",
    "    \n",
    "    if len(x_sorted)%2 == 0:\n",
    "        \n",
    "        middle_idx = len(x_sorted)//2\n",
    "        return (x_sorted[middle_idx] + x_sorted[middle_idx-1])/2\n",
    "        \n",
    "    else:\n",
    "        return x_sorted[len(x_sorted)//2]\n",
    "\n",
    "assert sample_median([1,2,3,4,5]) == 3\n",
    "assert sample_median([0,0,0,0]) == 0\n",
    "assert sample_median([1,2,3,4]) == 2.5, f\"The result is {sample_median([1,2,3,4])}\" # TASK : >FIX THE FUNCTION SO THAT THIS LAST TEST PASSES"
   ]
  },
  {
   "cell_type": "markdown",
   "metadata": {},
   "source": [
    "Looks good? ... ?\n",
    "\n",
    "<br><br><br><br><br>"
   ]
  },
  {
   "cell_type": "code",
   "execution_count": 33,
   "metadata": {},
   "outputs": [
    {
     "data": {
      "text/plain": [
       "2"
      ]
     },
     "execution_count": 33,
     "metadata": {},
     "output_type": "execute_result"
    }
   ],
   "source": [
    "4//2 \n",
    "\n",
    "#is equivalent to\n",
    "\n",
    "int(4/2)"
   ]
  },
  {
   "cell_type": "code",
   "execution_count": null,
   "metadata": {},
   "outputs": [],
   "source": []
  },
  {
   "cell_type": "code",
   "execution_count": 35,
   "metadata": {},
   "outputs": [],
   "source": [
    "assert sample_median([1,2,3,4]) == 2.5"
   ]
  },
  {
   "cell_type": "markdown",
   "metadata": {},
   "source": [
    "<br><br><br><br><br>"
   ]
  },
  {
   "cell_type": "code",
   "execution_count": 36,
   "metadata": {},
   "outputs": [],
   "source": [
    "assert sample_median([1,3,2]) == 2"
   ]
  },
  {
   "cell_type": "code",
   "execution_count": 54,
   "metadata": {},
   "outputs": [
    {
     "ename": "IndexError",
     "evalue": "list index out of range",
     "output_type": "error",
     "traceback": [
      "\u001b[0;31m---------------------------------------------------------------------------\u001b[0m",
      "\u001b[0;31mIndexError\u001b[0m                                Traceback (most recent call last)",
      "\u001b[0;32m/var/folders/64/bfv2dn992m17r4ztvfrt93rh0000gn/T/ipykernel_47819/2709968091.py\u001b[0m in \u001b[0;36m<module>\u001b[0;34m\u001b[0m\n\u001b[0;32m----> 1\u001b[0;31m \u001b[0msample_median\u001b[0m\u001b[0;34m(\u001b[0m\u001b[0;34m[\u001b[0m\u001b[0;34m]\u001b[0m\u001b[0;34m)\u001b[0m\u001b[0;34m\u001b[0m\u001b[0;34m\u001b[0m\u001b[0m\n\u001b[0m",
      "\u001b[0;32m/var/folders/64/bfv2dn992m17r4ztvfrt93rh0000gn/T/ipykernel_47819/1287078103.py\u001b[0m in \u001b[0;36msample_median\u001b[0;34m(x)\u001b[0m\n\u001b[1;32m      6\u001b[0m \u001b[0;34m\u001b[0m\u001b[0m\n\u001b[1;32m      7\u001b[0m         \u001b[0mmiddle_idx\u001b[0m \u001b[0;34m=\u001b[0m \u001b[0mlen\u001b[0m\u001b[0;34m(\u001b[0m\u001b[0mx_sorted\u001b[0m\u001b[0;34m)\u001b[0m\u001b[0;34m//\u001b[0m\u001b[0;36m2\u001b[0m\u001b[0;34m\u001b[0m\u001b[0;34m\u001b[0m\u001b[0m\n\u001b[0;32m----> 8\u001b[0;31m         \u001b[0;32mreturn\u001b[0m \u001b[0;34m(\u001b[0m\u001b[0mx_sorted\u001b[0m\u001b[0;34m[\u001b[0m\u001b[0mmiddle_idx\u001b[0m\u001b[0;34m]\u001b[0m \u001b[0;34m+\u001b[0m \u001b[0mx_sorted\u001b[0m\u001b[0;34m[\u001b[0m\u001b[0mmiddle_idx\u001b[0m\u001b[0;34m-\u001b[0m\u001b[0;36m1\u001b[0m\u001b[0;34m]\u001b[0m\u001b[0;34m)\u001b[0m\u001b[0;34m/\u001b[0m\u001b[0;36m2\u001b[0m\u001b[0;34m\u001b[0m\u001b[0;34m\u001b[0m\u001b[0m\n\u001b[0m\u001b[1;32m      9\u001b[0m \u001b[0;34m\u001b[0m\u001b[0m\n\u001b[1;32m     10\u001b[0m     \u001b[0;32melse\u001b[0m\u001b[0;34m:\u001b[0m\u001b[0;34m\u001b[0m\u001b[0;34m\u001b[0m\u001b[0m\n",
      "\u001b[0;31mIndexError\u001b[0m: list index out of range"
     ]
    }
   ],
   "source": [
    "sample_median([])"
   ]
  },
  {
   "cell_type": "markdown",
   "metadata": {},
   "source": [
    "#### Testing woes - false negatives\n",
    "\n",
    "- It can also happen, though more rarely, that your tests fail but your program is correct.\n",
    "- This means there is something wrong with your test.\n",
    "- For example, in the autograding for lab1 this happened to some people, because of tiny roundoff errors."
   ]
  },
  {
   "cell_type": "markdown",
   "metadata": {},
   "source": [
    "#### Corner cases\n",
    "\n",
    "- A **corner case** is an input that is reasonable but a bit unusual, and may trip up your code.\n",
    "- For example, taking the median of an empty list, or a list with only one element. \n",
    "- Often it is desirable to add test cases to address corner cases."
   ]
  },
  {
   "cell_type": "code",
   "execution_count": null,
   "metadata": {},
   "outputs": [],
   "source": [
    "assert sample_median([1]) == 1"
   ]
  },
  {
   "cell_type": "markdown",
   "metadata": {},
   "source": [
    "- In this case the code worked with no extra effort, but sometimes we need `if` statements to handle the weird cases.\n",
    "- Sometimes we want the code to throw an error (e.g. median of an empty list); more on this later."
   ]
  },
  {
   "cell_type": "markdown",
   "metadata": {},
   "source": [
    "## Multiple return values (0 min)\n",
    "\n",
    "- In most (all?) programming languages I've seen, functions can only return one thing.\n",
    "- That is technically true in Python, but there is a \"workaround\", which is to return a tuple, or a dictionary."
   ]
  },
  {
   "cell_type": "code",
   "execution_count": 37,
   "metadata": {},
   "outputs": [],
   "source": [
    "# not good from a design perspective!\n",
    "def sum_and_product(x, y):\n",
    "    return (x+y, x*y)"
   ]
  },
  {
   "cell_type": "code",
   "execution_count": 40,
   "metadata": {},
   "outputs": [],
   "source": [
    "# not good from a design perspective!\n",
    "def sum_and_product2(x, y):\n",
    "    return {'first':x+y, 'second':x*y}"
   ]
  },
  {
   "cell_type": "code",
   "execution_count": 42,
   "metadata": {},
   "outputs": [
    {
     "data": {
      "text/plain": [
       "{'first': 7, 'second': 12}"
      ]
     },
     "execution_count": 42,
     "metadata": {},
     "output_type": "execute_result"
    }
   ],
   "source": [
    "sum_and_product2(3,4)"
   ]
  },
  {
   "cell_type": "code",
   "execution_count": 38,
   "metadata": {},
   "outputs": [
    {
     "data": {
      "text/plain": [
       "(11, 30)"
      ]
     },
     "execution_count": 38,
     "metadata": {},
     "output_type": "execute_result"
    }
   ],
   "source": [
    "sum_and_product(5,6)"
   ]
  },
  {
   "cell_type": "markdown",
   "metadata": {},
   "source": [
    "In some cases in Python, the parentheses can be omitted: "
   ]
  },
  {
   "cell_type": "code",
   "execution_count": 43,
   "metadata": {},
   "outputs": [],
   "source": [
    "def sum_and_product(x, y):\n",
    "    return x+y, x*y"
   ]
  },
  {
   "cell_type": "code",
   "execution_count": null,
   "metadata": {},
   "outputs": [],
   "source": [
    "sum_and_product(5,6)"
   ]
  },
  {
   "cell_type": "markdown",
   "metadata": {},
   "source": [
    "It is common to store these in separate variables, so it really feels like the function is returning multiple values:"
   ]
  },
  {
   "cell_type": "code",
   "execution_count": 50,
   "metadata": {},
   "outputs": [],
   "source": [
    "s, p = sum_and_product(5, 6)"
   ]
  },
  {
   "cell_type": "code",
   "execution_count": 49,
   "metadata": {},
   "outputs": [
    {
     "data": {
      "text/plain": [
       "11"
      ]
     },
     "execution_count": 49,
     "metadata": {},
     "output_type": "execute_result"
    }
   ],
   "source": [
    "s"
   ]
  },
  {
   "cell_type": "code",
   "execution_count": 51,
   "metadata": {},
   "outputs": [
    {
     "data": {
      "text/plain": [
       "30"
      ]
     },
     "execution_count": 51,
     "metadata": {},
     "output_type": "execute_result"
    }
   ],
   "source": [
    "p"
   ]
  },
  {
   "cell_type": "markdown",
   "metadata": {},
   "source": [
    "- Question: is this good function design.\n",
    "- Answer: usually not, but sometimes. \n",
    "- You will encounter this in some Python packages."
   ]
  },
  {
   "cell_type": "markdown",
   "metadata": {},
   "source": [
    "Advanced / optional: you can ignore return values you don't need with `_`:"
   ]
  },
  {
   "cell_type": "code",
   "execution_count": null,
   "metadata": {},
   "outputs": [],
   "source": [
    "s, _ = sum_and_product(5, 6)"
   ]
  },
  {
   "cell_type": "code",
   "execution_count": null,
   "metadata": {},
   "outputs": [],
   "source": [
    "s"
   ]
  },
  {
   "cell_type": "markdown",
   "metadata": {},
   "source": [
    "#### Fun with tuples\n",
    "\n",
    "In general, you can do some weird stuff with tuples:"
   ]
  },
  {
   "cell_type": "code",
   "execution_count": null,
   "metadata": {},
   "outputs": [],
   "source": [
    "a, b = 5, 6"
   ]
  },
  {
   "cell_type": "code",
   "execution_count": null,
   "metadata": {},
   "outputs": [],
   "source": [
    "a, b = (5, 6)"
   ]
  },
  {
   "cell_type": "code",
   "execution_count": null,
   "metadata": {},
   "outputs": [],
   "source": [
    "a, b = b, a # in other languages this requires a \"temp\" variable"
   ]
  },
  {
   "cell_type": "code",
   "execution_count": null,
   "metadata": {},
   "outputs": [],
   "source": [
    "a"
   ]
  },
  {
   "cell_type": "code",
   "execution_count": null,
   "metadata": {},
   "outputs": [],
   "source": [
    "b"
   ]
  }
 ],
 "metadata": {
  "kernelspec": {
   "display_name": "Python 3 (ipykernel)",
   "language": "python",
   "name": "python3"
  },
  "language_info": {
   "codemirror_mode": {
    "name": "ipython",
    "version": 3
   },
   "file_extension": ".py",
   "mimetype": "text/x-python",
   "name": "python",
   "nbconvert_exporter": "python",
   "pygments_lexer": "ipython3",
   "version": "3.9.7"
  }
 },
 "nbformat": 4,
 "nbformat_minor": 4
}
